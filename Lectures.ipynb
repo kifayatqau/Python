{
 "cells": [
  {
   "cell_type": "code",
   "execution_count": null,
   "id": "bd6fde5b-05b6-40b0-b027-45a0085914d9",
   "metadata": {},
   "outputs": [],
   "source": [
    "Commenting in Python"
   ]
  },
  {
   "cell_type": "code",
   "execution_count": null,
   "id": "06ae7856-0f5f-4141-b503-575b016015c2",
   "metadata": {},
   "outputs": [],
   "source": [
    "Program to add Number"
   ]
  },
  {
   "cell_type": "code",
   "execution_count": null,
   "id": "65c10347-db42-46fd-8298-203f1bfcb0c0",
   "metadata": {},
   "outputs": [],
   "source": [
    "#program to add number"
   ]
  },
  {
   "cell_type": "code",
   "execution_count": 1,
   "id": "da01b2c8-d9a1-4aa3-9de9-8f8145a63ae4",
   "metadata": {},
   "outputs": [
    {
     "name": "stdout",
     "output_type": "stream",
     "text": [
      "13\n"
     ]
    }
   ],
   "source": [
    "c=4\n",
    "b=9\n",
    "print(b+c)"
   ]
  },
  {
   "cell_type": "code",
   "execution_count": null,
   "id": "efbdb2cf-d5b2-46bc-b618-0c1e61036ea1",
   "metadata": {},
   "outputs": [],
   "source": [
    "Basic Operations"
   ]
  },
  {
   "cell_type": "markdown",
   "id": "9f2ef3b3-cad0-41a8-8da7-ec07c5ec9635",
   "metadata": {},
   "source": [
    "Data Type"
   ]
  },
  {
   "cell_type": "code",
   "execution_count": null,
   "id": "84d01c88-8f8e-483e-94bb-ec23065ede82",
   "metadata": {},
   "outputs": [],
   "source": [
    "#Integer type data"
   ]
  },
  {
   "cell_type": "code",
   "execution_count": 2,
   "id": "1ae88f4f-804f-4703-bf7f-18da341e30ff",
   "metadata": {},
   "outputs": [
    {
     "name": "stdout",
     "output_type": "stream",
     "text": [
      "<class 'int'>\n"
     ]
    }
   ],
   "source": [
    "y=465\n",
    "print(type(y))"
   ]
  },
  {
   "cell_type": "code",
   "execution_count": null,
   "id": "87411a7b-3f30-4cf1-9672-39e5a693bb9d",
   "metadata": {},
   "outputs": [],
   "source": [
    "#string data type"
   ]
  },
  {
   "cell_type": "code",
   "execution_count": 5,
   "id": "0221596b-0d8b-402b-92ca-5be0ccde68be",
   "metadata": {},
   "outputs": [
    {
     "name": "stdout",
     "output_type": "stream",
     "text": [
      "Kifayat\n",
      "<class 'str'>\n"
     ]
    }
   ],
   "source": [
    "name = \"Kifayat\"\n",
    "print(name)\n",
    "print(type(name))"
   ]
  },
  {
   "cell_type": "code",
   "execution_count": null,
   "id": "2252add1-c163-4735-ad9a-fdf9bb497037",
   "metadata": {},
   "outputs": [],
   "source": [
    "Arithmatic Operator\n",
    "#addition"
   ]
  },
  {
   "cell_type": "code",
   "execution_count": 1,
   "id": "4b09441c-c804-42f7-a166-400e32d9b8c8",
   "metadata": {},
   "outputs": [
    {
     "data": {
      "text/plain": [
       "9"
      ]
     },
     "execution_count": 1,
     "metadata": {},
     "output_type": "execute_result"
    }
   ],
   "source": [
    "4+5"
   ]
  },
  {
   "cell_type": "code",
   "execution_count": null,
   "id": "6326204e-f7c0-4723-aa01-a3148eca23da",
   "metadata": {},
   "outputs": [],
   "source": [
    "#multiplication"
   ]
  },
  {
   "cell_type": "code",
   "execution_count": 2,
   "id": "3b0c949c-6a6a-4fef-9661-806b6fd04ef0",
   "metadata": {},
   "outputs": [
    {
     "data": {
      "text/plain": [
       "25"
      ]
     },
     "execution_count": 2,
     "metadata": {},
     "output_type": "execute_result"
    }
   ],
   "source": [
    "5*5"
   ]
  },
  {
   "cell_type": "code",
   "execution_count": 3,
   "id": "d764f5d0-0171-480e-aaa0-01364f84f6d0",
   "metadata": {},
   "outputs": [],
   "source": [
    "#Division"
   ]
  },
  {
   "cell_type": "code",
   "execution_count": 4,
   "id": "b6528d6c-faab-430e-843e-488a142126e4",
   "metadata": {},
   "outputs": [
    {
     "data": {
      "text/plain": [
       "5.0"
      ]
     },
     "execution_count": 4,
     "metadata": {},
     "output_type": "execute_result"
    }
   ],
   "source": [
    "35/7"
   ]
  },
  {
   "cell_type": "code",
   "execution_count": 8,
   "id": "d3cbd2b1-2872-4023-a173-273c255fe1c1",
   "metadata": {},
   "outputs": [
    {
     "name": "stdout",
     "output_type": "stream",
     "text": [
      "11.25\n",
      "11\n",
      "6\n",
      "81\n"
     ]
    }
   ],
   "source": [
    "#Division floating value\n",
    "print(45/4)\n",
    "#Division floor value\n",
    "print(45//4)\n",
    "#Modulus\n",
    "print(20%7)\n",
    "#power\n",
    "print(3**4)"
   ]
  },
  {
   "cell_type": "code",
   "execution_count": null,
   "id": "4a13037d-f043-4cf0-93cf-00665801cb7a",
   "metadata": {},
   "outputs": [],
   "source": [
    "Assignment Operator"
   ]
  },
  {
   "cell_type": "code",
   "execution_count": 9,
   "id": "76b95a51-5451-4332-89d2-b43cddaf582e",
   "metadata": {},
   "outputs": [
    {
     "name": "stdout",
     "output_type": "stream",
     "text": [
      "705\n"
     ]
    }
   ],
   "source": [
    "#Assignment Operation\n",
    "#add and assign\n",
    "v=655\n",
    "v+= 50\n",
    "print(v)"
   ]
  }
 ],
 "metadata": {
  "kernelspec": {
   "display_name": "Python [conda env:base] *",
   "language": "python",
   "name": "conda-base-py"
  },
  "language_info": {
   "codemirror_mode": {
    "name": "ipython",
    "version": 3
   },
   "file_extension": ".py",
   "mimetype": "text/x-python",
   "name": "python",
   "nbconvert_exporter": "python",
   "pygments_lexer": "ipython3",
   "version": "3.12.7"
  }
 },
 "nbformat": 4,
 "nbformat_minor": 5
}
