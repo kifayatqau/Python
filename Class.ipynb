{
 "cells": [
  {
   "cell_type": "code",
   "execution_count": 1,
   "id": "a9c5507f-b7f2-4b7a-b6a1-18456912e04e",
   "metadata": {},
   "outputs": [
    {
     "name": "stdout",
     "output_type": "stream",
     "text": [
      "12\n"
     ]
    }
   ],
   "source": [
    "age = 12\n",
    "print(age)"
   ]
  },
  {
   "cell_type": "code",
   "execution_count": 2,
   "id": "f4baa1ce-409e-4617-a0cd-d249d60e2a3a",
   "metadata": {},
   "outputs": [
    {
     "data": {
      "text/plain": [
       "int"
      ]
     },
     "execution_count": 2,
     "metadata": {},
     "output_type": "execute_result"
    }
   ],
   "source": [
    "type(age)"
   ]
  },
  {
   "cell_type": "code",
   "execution_count": 3,
   "id": "b9803a86-d8b7-4d83-9fc6-989fd1699a30",
   "metadata": {},
   "outputs": [
    {
     "name": "stdout",
     "output_type": "stream",
     "text": [
      "3.42\n"
     ]
    }
   ],
   "source": [
    "gpa=3.42\n",
    "print(gpa)"
   ]
  },
  {
   "cell_type": "code",
   "execution_count": 5,
   "id": "28393b3a-4176-4770-9bbb-092a7d91f91f",
   "metadata": {},
   "outputs": [
    {
     "data": {
      "text/plain": [
       "float"
      ]
     },
     "execution_count": 5,
     "metadata": {},
     "output_type": "execute_result"
    }
   ],
   "source": [
    "type(gpa)"
   ]
  },
  {
   "cell_type": "code",
   "execution_count": 1,
   "id": "ad0d5404-df81-4b44-96ea-13f869dcf033",
   "metadata": {},
   "outputs": [
    {
     "name": "stdout",
     "output_type": "stream",
     "text": [
      "qau\n"
     ]
    }
   ],
   "source": [
    "name= \"qau\"\n",
    "print(name)"
   ]
  },
  {
   "cell_type": "code",
   "execution_count": null,
   "id": "7e0ed247-e2e5-44d7-b1fe-2feaf86199ec",
   "metadata": {},
   "outputs": [],
   "source": [
    "num1 = 10\n",
    "num2 = 5\n",
    "\n",
    "print (f\"Addition of {num1} and {num2} = {num1 + num2}\""
   ]
  },
  {
   "cell_type": "code",
   "execution_count": null,
   "id": "22de3229-53df-4bef-8908-de944bcf6598",
   "metadata": {},
   "outputs": [],
   "source": []
  },
  {
   "cell_type": "code",
   "execution_count": null,
   "id": "57d52672-bb23-4d1d-bbe1-4bc713763965",
   "metadata": {},
   "outputs": [],
   "source": [
    "Friday Lecture"
   ]
  },
  {
   "cell_type": "code",
   "execution_count": 1,
   "id": "f8d04286-c946-4adb-bde5-6f4712aa2f73",
   "metadata": {},
   "outputs": [
    {
     "name": "stdout",
     "output_type": "stream",
     "text": [
      "Hello word\n"
     ]
    }
   ],
   "source": [
    "a = \"Hello\"\n",
    "b= \"word\"\n",
    "print(a,b)"
   ]
  },
  {
   "cell_type": "code",
   "execution_count": 3,
   "id": "1619b952-9ff5-40a5-a289-9bc590c398d5",
   "metadata": {},
   "outputs": [
    {
     "name": "stdout",
     "output_type": "stream",
     "text": [
      "qau\n"
     ]
    },
    {
     "data": {
      "text/plain": [
       "3"
      ]
     },
     "execution_count": 3,
     "metadata": {},
     "output_type": "execute_result"
    }
   ],
   "source": [
    "uni = \"qau\"\n",
    "print(uni)\n",
    "type (uni)\n",
    "len(uni)"
   ]
  },
  {
   "cell_type": "code",
   "execution_count": 9,
   "id": "52dda4d3-d41b-4369-9d42-5245e11ea430",
   "metadata": {},
   "outputs": [
    {
     "name": "stdin",
     "output_type": "stream",
     "text": [
      "Please enter your first name :  Kifayat\n",
      "please enter your last name :  Ullah\n"
     ]
    },
    {
     "name": "stdout",
     "output_type": "stream",
     "text": [
      "name: Kifayat Ullah\n"
     ]
    }
   ],
   "source": [
    "f_name= input(\"Please enter your first name : \")\n",
    "l_name= input(\"please enter your last name : \")\n",
    "print(\"name:\", f_name, l_name)"
   ]
  },
  {
   "cell_type": "code",
   "execution_count": 12,
   "id": "d986557c-d6a5-4508-b2bd-5edc0ea15779",
   "metadata": {},
   "outputs": [
    {
     "data": {
      "text/plain": [
       "float"
      ]
     },
     "execution_count": 12,
     "metadata": {},
     "output_type": "execute_result"
    }
   ],
   "source": [
    "gpa = \"3.4\"\n",
    "type(gpa)\n",
    "gpa=float(gpa)\n",
    "type(gpa)"
   ]
  },
  {
   "cell_type": "code",
   "execution_count": 17,
   "id": "12f0d9fa-dd08-4add-b96e-5052f6c1b908",
   "metadata": {},
   "outputs": [
    {
     "name": "stdout",
     "output_type": "stream",
     "text": [
      "10\n"
     ]
    }
   ],
   "source": [
    "age = 10\n",
    "type(age)\n",
    "print(age)"
   ]
  },
  {
   "cell_type": "code",
   "execution_count": 20,
   "id": "1d7fb9c7-8d3e-4d18-8011-b6987ab21714",
   "metadata": {},
   "outputs": [
    {
     "name": "stdin",
     "output_type": "stream",
     "text": [
      "GPA : 3.45\n"
     ]
    },
    {
     "data": {
      "text/plain": [
       "float"
      ]
     },
     "execution_count": 20,
     "metadata": {},
     "output_type": "execute_result"
    }
   ],
   "source": [
    "gpa = float(input(\"GPA :\"))\n",
    "type(gpa)"
   ]
  },
  {
   "cell_type": "code",
   "execution_count": null,
   "id": "f2a5cc2c-1a19-4439-99ec-240580e36233",
   "metadata": {},
   "outputs": [],
   "source": []
  }
 ],
 "metadata": {
  "kernelspec": {
   "display_name": "Python [conda env:base] *",
   "language": "python",
   "name": "conda-base-py"
  },
  "language_info": {
   "codemirror_mode": {
    "name": "ipython",
    "version": 3
   },
   "file_extension": ".py",
   "mimetype": "text/x-python",
   "name": "python",
   "nbconvert_exporter": "python",
   "pygments_lexer": "ipython3",
   "version": "3.12.7"
  }
 },
 "nbformat": 4,
 "nbformat_minor": 5
}
