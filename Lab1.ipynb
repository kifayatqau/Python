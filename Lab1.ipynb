{
 "cells": [
  {
   "cell_type": "code",
   "execution_count": null,
   "id": "94fdc739-42c2-40e7-8e53-3c6a600f8c5e",
   "metadata": {},
   "outputs": [],
   "source": [
    "Programming: Python"
   ]
  },
  {
   "cell_type": "code",
   "execution_count": 1,
   "id": "08fb55e0-bb32-46d9-b946-6399116e33df",
   "metadata": {},
   "outputs": [
    {
     "name": "stdout",
     "output_type": "stream",
     "text": [
      "Hello, World\n"
     ]
    }
   ],
   "source": [
    "print(\"Hello, World\")"
   ]
  },
  {
   "cell_type": "code",
   "execution_count": 2,
   "id": "0c087614-c1d4-44b9-bc0f-70a4a79ad52c",
   "metadata": {},
   "outputs": [
    {
     "name": "stdout",
     "output_type": "stream",
     "text": [
      "12\n"
     ]
    }
   ],
   "source": [
    "age = 12\n",
    "print(age)"
   ]
  },
  {
   "cell_type": "code",
   "execution_count": null,
   "id": "1ab81abb-cb03-4c77-8060-cf3026813759",
   "metadata": {},
   "outputs": [],
   "source": [
    "Data Type"
   ]
  },
  {
   "cell_type": "code",
   "execution_count": 3,
   "id": "f52da664-1c12-43a1-9e40-e69a7d9b53e0",
   "metadata": {},
   "outputs": [
    {
     "data": {
      "text/plain": [
       "int"
      ]
     },
     "execution_count": 3,
     "metadata": {},
     "output_type": "execute_result"
    }
   ],
   "source": [
    "type(age)"
   ]
  },
  {
   "cell_type": "code",
   "execution_count": 4,
   "id": "d70319df-4a9c-4e36-8a3f-764a22de50d4",
   "metadata": {},
   "outputs": [
    {
     "name": "stdout",
     "output_type": "stream",
     "text": [
      "3.71\n"
     ]
    }
   ],
   "source": [
    "gpa = 3.71\n",
    "print(gpa)"
   ]
  },
  {
   "cell_type": "code",
   "execution_count": 5,
   "id": "067d7c49-97b3-4d99-b626-ec8e23932d49",
   "metadata": {},
   "outputs": [
    {
     "data": {
      "text/plain": [
       "float"
      ]
     },
     "execution_count": 5,
     "metadata": {},
     "output_type": "execute_result"
    }
   ],
   "source": [
    "type(gpa)"
   ]
  },
  {
   "cell_type": "code",
   "execution_count": 1,
   "id": "ab7f838a-8d89-42f4-9815-5f6db615bf33",
   "metadata": {},
   "outputs": [
    {
     "name": "stdout",
     "output_type": "stream",
     "text": [
      "Corvit\n"
     ]
    }
   ],
   "source": [
    "name = \"Corvit\"\n",
    "print(name)"
   ]
  },
  {
   "cell_type": "code",
   "execution_count": 2,
   "id": "580454fe-738e-4744-abf1-fe05df5dc631",
   "metadata": {},
   "outputs": [
    {
     "data": {
      "text/plain": [
       "str"
      ]
     },
     "execution_count": 2,
     "metadata": {},
     "output_type": "execute_result"
    }
   ],
   "source": [
    "type(name)"
   ]
  },
  {
   "cell_type": "code",
   "execution_count": null,
   "id": "bca7414b-6fb5-4e54-a4e9-1daa32264b59",
   "metadata": {},
   "outputs": [],
   "source": [
    "Getting User's Input "
   ]
  },
  {
   "cell_type": "code",
   "execution_count": 4,
   "id": "3b4d3ae4-53aa-43a5-8374-05a42ad38ea8",
   "metadata": {},
   "outputs": [
    {
     "name": "stdin",
     "output_type": "stream",
     "text": [
      "Please enter your good name:  Kifayat Ullah\n"
     ]
    }
   ],
   "source": [
    "f_name = input(\"Please enter your good name: \")"
   ]
  },
  {
   "cell_type": "code",
   "execution_count": 5,
   "id": "b0b642a1-bde9-41fd-a7e6-46f0f99a7fca",
   "metadata": {},
   "outputs": [
    {
     "name": "stdout",
     "output_type": "stream",
     "text": [
      "Kifayat Ullah\n"
     ]
    }
   ],
   "source": [
    "print(f_name)"
   ]
  },
  {
   "cell_type": "code",
   "execution_count": 6,
   "id": "f36562d6-95c2-4cd8-a482-5a429d5d920b",
   "metadata": {},
   "outputs": [
    {
     "data": {
      "text/plain": [
       "str"
      ]
     },
     "execution_count": 6,
     "metadata": {},
     "output_type": "execute_result"
    }
   ],
   "source": [
    "type(f_name)"
   ]
  },
  {
   "cell_type": "code",
   "execution_count": null,
   "id": "7b575f3c-4a07-4763-9dde-004998725b06",
   "metadata": {},
   "outputs": [],
   "source": []
  }
 ],
 "metadata": {
  "kernelspec": {
   "display_name": "Python [conda env:base] *",
   "language": "python",
   "name": "conda-base-py"
  },
  "language_info": {
   "codemirror_mode": {
    "name": "ipython",
    "version": 3
   },
   "file_extension": ".py",
   "mimetype": "text/x-python",
   "name": "python",
   "nbconvert_exporter": "python",
   "pygments_lexer": "ipython3",
   "version": "3.12.7"
  }
 },
 "nbformat": 4,
 "nbformat_minor": 5
}
